{
 "cells": [
  {
   "cell_type": "code",
   "execution_count": 11,
   "metadata": {
    "colab": {
     "base_uri": "https://localhost:8080/"
    },
    "executionInfo": {
     "elapsed": 1108,
     "status": "ok",
     "timestamp": 1626183098894,
     "user": {
      "displayName": "hyd java",
      "photoUrl": "https://lh3.googleusercontent.com/a-/AOh14Gi_GOMKEZ6q0rnhev9mNoGwytWloL0T5AZ_3oEv=s64",
      "userId": "11252920809288514062"
     },
     "user_tz": -330
    },
    "id": "J2BmRfQQFHRj",
    "outputId": "3a1396c2-6de6-44bd-a9c8-1baf0ffb51f9"
   },
   "outputs": [],
   "source": [
    "# Import libraries necessary for this project\n",
    "import warnings\n",
    "warnings.filterwarnings('ignore')\n",
    "import numpy as np\n",
    "import pandas as pd\n",
    "import seaborn as sns\n",
    "from IPython.display import display # Allows the use of display() for DataFrames\n",
    "#import visuals as vs\n",
    "%matplotlib inline\n",
    "\n",
    "try:\n",
    "    data = pd.read_csv('SamrtHome.csv')\n",
    "    data.drop(['Date', 'ST', 'ET'], axis = 1, inplace = True)\n",
    "#print(\"Wholesale customers dataset has {} samples with {} features each.\".format(*data.shape))\n",
    "except:\n",
    "    print(\"Error\")"
   ]
  },
  {
   "cell_type": "markdown",
   "metadata": {
    "id": "95h-ES-FTV3z"
   },
   "source": [
    "# New Section"
   ]
  },
  {
   "cell_type": "markdown",
   "metadata": {
    "id": "7NYdgHZRTXk6"
   },
   "source": [
    "# New Section"
   ]
  },
  {
   "cell_type": "code",
   "execution_count": 7,
   "metadata": {},
   "outputs": [
    {
     "name": "stdout",
     "output_type": "stream",
     "text": [
      "Collecting google-colab\n",
      "  Using cached google_colab-1.0.0-py2.py3-none-any.whl\n",
      "Requirement already satisfied: tornado~=4.5.0 in c:\\users\\software\\anaconda3\\lib\\site-packages (from google-colab) (4.5.3)\n",
      "Requirement already satisfied: six~=1.12.0 in c:\\users\\software\\anaconda3\\lib\\site-packages (from google-colab) (1.12.0)\n",
      "Collecting notebook~=5.2.0\n",
      "  Using cached notebook-5.2.2-py2.py3-none-any.whl (8.0 MB)\n",
      "Requirement already satisfied: ipython~=5.5.0 in c:\\users\\software\\anaconda3\\lib\\site-packages (from google-colab) (5.5.0)\n",
      "Requirement already satisfied: portpicker~=1.2.0 in c:\\users\\software\\anaconda3\\lib\\site-packages (from google-colab) (1.2.0)\n",
      "Collecting pandas~=0.24.0\n",
      "  Using cached pandas-0.24.2-cp37-cp37m-win_amd64.whl (9.0 MB)\n",
      "Collecting google-auth~=1.4.0\n",
      "  Using cached google_auth-1.4.2-py2.py3-none-any.whl (64 kB)\n",
      "Requirement already satisfied: requests~=2.21.0 in c:\\users\\software\\anaconda3\\lib\\site-packages (from google-colab) (2.21.0)\n",
      "Requirement already satisfied: ipykernel~=4.6.0 in c:\\users\\software\\anaconda3\\lib\\site-packages (from google-colab) (4.6.1)\n",
      "Requirement already satisfied: pyasn1-modules>=0.2.1 in c:\\users\\software\\anaconda3\\lib\\site-packages (from google-auth~=1.4.0->google-colab) (0.2.8)\n",
      "Requirement already satisfied: cachetools>=2.0.0 in c:\\users\\software\\anaconda3\\lib\\site-packages (from google-auth~=1.4.0->google-colab) (4.2.1)\n",
      "Requirement already satisfied: rsa>=3.1.4 in c:\\users\\software\\anaconda3\\lib\\site-packages (from google-auth~=1.4.0->google-colab) (4.7.1)\n",
      "Requirement already satisfied: traitlets>=4.1.0 in c:\\users\\software\\anaconda3\\lib\\site-packages (from ipykernel~=4.6.0->google-colab) (4.3.2)\n",
      "Requirement already satisfied: jupyter-client in c:\\users\\software\\anaconda3\\lib\\site-packages (from ipykernel~=4.6.0->google-colab) (5.2.4)\n",
      "Requirement already satisfied: pickleshare in c:\\users\\software\\anaconda3\\lib\\site-packages (from ipython~=5.5.0->google-colab) (0.7.5)\n",
      "Requirement already satisfied: prompt-toolkit<2.0.0,>=1.0.4 in c:\\users\\software\\anaconda3\\lib\\site-packages (from ipython~=5.5.0->google-colab) (1.0.18)\n",
      "Requirement already satisfied: colorama in c:\\users\\software\\anaconda3\\lib\\site-packages (from ipython~=5.5.0->google-colab) (0.4.1)\n",
      "Requirement already satisfied: pygments in c:\\users\\software\\anaconda3\\lib\\site-packages (from ipython~=5.5.0->google-colab) (2.3.1)\n",
      "Requirement already satisfied: decorator in c:\\users\\software\\anaconda3\\lib\\site-packages (from ipython~=5.5.0->google-colab) (4.4.0)\n",
      "Requirement already satisfied: simplegeneric>0.8 in c:\\users\\software\\anaconda3\\lib\\site-packages (from ipython~=5.5.0->google-colab) (0.8.1)\n",
      "Requirement already satisfied: setuptools>=18.5 in c:\\users\\software\\anaconda3\\lib\\site-packages (from ipython~=5.5.0->google-colab) (53.0.0)\n",
      "Requirement already satisfied: nbformat in c:\\users\\software\\anaconda3\\lib\\site-packages (from notebook~=5.2.0->google-colab) (4.4.0)\n",
      "Requirement already satisfied: nbconvert in c:\\users\\software\\anaconda3\\lib\\site-packages (from notebook~=5.2.0->google-colab) (5.4.1)\n",
      "Requirement already satisfied: jinja2 in c:\\users\\software\\anaconda3\\lib\\site-packages (from notebook~=5.2.0->google-colab) (2.10)\n",
      "Requirement already satisfied: jupyter-core in c:\\users\\software\\anaconda3\\lib\\site-packages (from notebook~=5.2.0->google-colab) (4.4.0)\n",
      "Requirement already satisfied: ipython-genutils in c:\\users\\software\\anaconda3\\lib\\site-packages (from notebook~=5.2.0->google-colab) (0.2.0)\n",
      "Requirement already satisfied: numpy>=1.12.0 in c:\\users\\software\\anaconda3\\lib\\site-packages (from pandas~=0.24.0->google-colab) (1.19.2)\n",
      "Requirement already satisfied: python-dateutil>=2.5.0 in c:\\users\\software\\anaconda3\\lib\\site-packages (from pandas~=0.24.0->google-colab) (2.8.0)\n",
      "Requirement already satisfied: pytz>=2011k in c:\\users\\software\\anaconda3\\lib\\site-packages (from pandas~=0.24.0->google-colab) (2018.9)\n",
      "Requirement already satisfied: wcwidth in c:\\users\\software\\anaconda3\\lib\\site-packages (from prompt-toolkit<2.0.0,>=1.0.4->ipython~=5.5.0->google-colab) (0.1.7)\n",
      "Requirement already satisfied: pyasn1<0.5.0,>=0.4.6 in c:\\users\\software\\anaconda3\\lib\\site-packages (from pyasn1-modules>=0.2.1->google-auth~=1.4.0->google-colab) (0.4.8)\n",
      "Requirement already satisfied: certifi>=2017.4.17 in c:\\users\\software\\anaconda3\\lib\\site-packages (from requests~=2.21.0->google-colab) (2021.5.30)\n",
      "Requirement already satisfied: urllib3<1.25,>=1.21.1 in c:\\users\\software\\anaconda3\\lib\\site-packages (from requests~=2.21.0->google-colab) (1.24.1)\n",
      "Requirement already satisfied: idna<2.9,>=2.5 in c:\\users\\software\\anaconda3\\lib\\site-packages (from requests~=2.21.0->google-colab) (2.8)\n",
      "Requirement already satisfied: chardet<3.1.0,>=3.0.2 in c:\\users\\software\\anaconda3\\lib\\site-packages (from requests~=2.21.0->google-colab) (3.0.4)\n",
      "Requirement already satisfied: MarkupSafe>=0.23 in c:\\users\\software\\anaconda3\\lib\\site-packages (from jinja2->notebook~=5.2.0->google-colab) (1.1.1)\n",
      "Requirement already satisfied: pyzmq>=13 in c:\\users\\software\\anaconda3\\lib\\site-packages (from jupyter-client->ipykernel~=4.6.0->google-colab) (18.0.0)\n",
      "Requirement already satisfied: mistune>=0.8.1 in c:\\users\\software\\anaconda3\\lib\\site-packages (from nbconvert->notebook~=5.2.0->google-colab) (0.8.4)\n",
      "Requirement already satisfied: entrypoints>=0.2.2 in c:\\users\\software\\anaconda3\\lib\\site-packages (from nbconvert->notebook~=5.2.0->google-colab) (0.3)\n",
      "Requirement already satisfied: bleach in c:\\users\\software\\anaconda3\\lib\\site-packages (from nbconvert->notebook~=5.2.0->google-colab) (3.1.0)\n",
      "Requirement already satisfied: pandocfilters>=1.4.1 in c:\\users\\software\\anaconda3\\lib\\site-packages (from nbconvert->notebook~=5.2.0->google-colab) (1.4.2)\n",
      "Requirement already satisfied: testpath in c:\\users\\software\\anaconda3\\lib\\site-packages (from nbconvert->notebook~=5.2.0->google-colab) (0.4.2)\n",
      "Requirement already satisfied: defusedxml in c:\\users\\software\\anaconda3\\lib\\site-packages (from nbconvert->notebook~=5.2.0->google-colab) (0.5.0)\n",
      "Requirement already satisfied: jsonschema!=2.5.0,>=2.4 in c:\\users\\software\\anaconda3\\lib\\site-packages (from nbformat->notebook~=5.2.0->google-colab) (3.0.1)\n",
      "Requirement already satisfied: attrs>=17.4.0 in c:\\users\\software\\anaconda3\\lib\\site-packages (from jsonschema!=2.5.0,>=2.4->nbformat->notebook~=5.2.0->google-colab) (19.1.0)\n",
      "Requirement already satisfied: pyrsistent>=0.14.0 in c:\\users\\software\\anaconda3\\lib\\site-packages (from jsonschema!=2.5.0,>=2.4->nbformat->notebook~=5.2.0->google-colab) (0.17.3)\n",
      "Requirement already satisfied: webencodings in c:\\users\\software\\anaconda3\\lib\\site-packages (from bleach->nbconvert->notebook~=5.2.0->google-colab) (0.5.1)\n",
      "Installing collected packages: pandas, notebook, google-auth, google-colab\n",
      "  Attempting uninstall: pandas\n",
      "    Found existing installation: pandas 1.2.4\n",
      "    Uninstalling pandas-1.2.4:\n",
      "      Successfully uninstalled pandas-1.2.4\n",
      "  Attempting uninstall: notebook\n",
      "    Found existing installation: notebook 5.7.8\n",
      "    Uninstalling notebook-5.7.8:\n",
      "      Successfully uninstalled notebook-5.7.8\n",
      "  Attempting uninstall: google-auth\n",
      "    Found existing installation: google-auth 1.27.0\n",
      "    Uninstalling google-auth-1.27.0:\n",
      "      Successfully uninstalled google-auth-1.27.0\n",
      "Successfully installed google-auth-1.4.2 google-colab-1.0.0 notebook-5.2.2 pandas-0.25.1\n"
     ]
    },
    {
     "name": "stderr",
     "output_type": "stream",
     "text": [
      "ERROR: pip's dependency resolver does not currently take into account all the packages that are installed. This behaviour is the source of the following dependency conflicts.\n",
      "tensorboard 2.4.1 requires google-auth<2,>=1.6.3, but you have google-auth 1.4.2 which is incompatible.\n",
      "fbprophet 0.6 requires cmdstanpy==0.4, but you have cmdstanpy 0.9.5 which is incompatible.\n",
      "WARNING: You are using pip version 21.0.1; however, version 21.3.1 is available.\n",
      "You should consider upgrading via the 'c:\\users\\software\\anaconda3\\python.exe -m pip install --upgrade pip' command.\n"
     ]
    }
   ],
   "source": [
    "!pip install google-colab"
   ]
  },
  {
   "cell_type": "markdown",
   "metadata": {
    "id": "iqbbjOapFHRx"
   },
   "source": [
    "# Display a description of the dataset\n",
    "display(data.describe())"
   ]
  },
  {
   "cell_type": "code",
   "execution_count": 12,
   "metadata": {
    "colab": {
     "base_uri": "https://localhost:8080/"
    },
    "executionInfo": {
     "elapsed": 707,
     "status": "ok",
     "timestamp": 1624621562000,
     "user": {
      "displayName": "Niharika Madagoni",
      "photoUrl": "",
      "userId": "06097275391929878770"
     },
     "user_tz": -330
    },
    "id": "9808mna6FHRt",
    "outputId": "aa3ab9de-4624-4445-9d59-a5eba3309939"
   },
   "outputs": [
    {
     "data": {
      "text/plain": [
       "(48, 15)"
      ]
     },
     "execution_count": 12,
     "metadata": {},
     "output_type": "execute_result"
    }
   ],
   "source": [
    "data.shape"
   ]
  },
  {
   "cell_type": "code",
   "execution_count": 14,
   "metadata": {},
   "outputs": [
    {
     "name": "stdout",
     "output_type": "stream",
     "text": [
      "Requirement already satisfied: pandas in c:\\users\\software\\anaconda3\\lib\\site-packages (0.25.1)\n"
     ]
    },
    {
     "name": "stderr",
     "output_type": "stream",
     "text": [
      "ERROR: Could not find a version that satisfies the requirement as\n",
      "ERROR: No matching distribution found for as\n",
      "WARNING: You are using pip version 21.0.1; however, version 21.3.1 is available.\n",
      "You should consider upgrading via the 'c:\\users\\software\\anaconda3\\python.exe -m pip install --upgrade pip' command.\n"
     ]
    }
   ],
   "source": [
    "!pip install pandas as pd "
   ]
  },
  {
   "cell_type": "code",
   "execution_count": 17,
   "metadata": {},
   "outputs": [],
   "source": [
    "indices = [1, 32, 47] "
   ]
  },
  {
   "cell_type": "code",
   "execution_count": 18,
   "metadata": {},
   "outputs": [],
   "source": [
    "\n",
    "samples = pd.DataFrame(data.loc[indices], columns = data.keys()).reset_index(drop = True)"
   ]
  },
  {
   "cell_type": "code",
   "execution_count": 21,
   "metadata": {},
   "outputs": [
    {
     "name": "stdout",
     "output_type": "stream",
     "text": [
      "Chosen samples of wholesale human energy dataset\n"
     ]
    }
   ],
   "source": [
    "print(\"Chosen samples of wholesale human energy dataset\")"
   ]
  },
  {
   "cell_type": "code",
   "execution_count": 26,
   "metadata": {
    "colab": {
     "base_uri": "https://localhost:8080/"
    },
    "executionInfo": {
     "elapsed": 468,
     "status": "ok",
     "timestamp": 1624621592002,
     "user": {
      "displayName": "Niharika Madagoni",
      "photoUrl": "",
      "userId": "06097275391929878770"
     },
     "user_tz": -330
    },
    "id": "T5uPbbHGFHRz",
    "outputId": "f511d7df-6edd-4371-8259-bb9d08182ab8"
   },
   "outputs": [
    {
     "name": "stdout",
     "output_type": "stream",
     "text": [
      "Prediction score is [-3.3275] for [Home Theater]\n",
      "-3.327534975662643\n",
      "Health Issues Happened\n",
      "Prediction score is [+0.1609] for [Television]\n",
      "0.16085210010684037\n",
      "Health Issues Happened\n",
      "Prediction score is [+0.1815] for [Air Conditioner]\n",
      "0.181469473572914\n",
      "Health Issues Happened\n",
      "Prediction score is [+0.8085] for [Chimney]\n",
      "0.808451168428693\n",
      "There is no health issue\n",
      "Prediction score is [+0.8145] for [Hair Dryer]\n",
      "0.8144685232976889\n",
      "There is no health issue\n",
      "Prediction score is [+0.8347] for [Refrigerator]\n",
      "0.8346704108147764\n",
      "There is no health issue\n",
      "Prediction score is [+0.8975] for [Microwave]\n",
      "0.897468538617201\n",
      "There is no health issue\n",
      "Prediction score is [+0.9754] for [Kettle]\n",
      "0.9754343090210277\n",
      "There is no health issue\n",
      "Prediction score is [+0.9998] for [Fan]\n",
      "0.9998439427088534\n",
      "There is no health issue\n",
      "Prediction score is [+1.0000] for [Dish Washer]\n",
      "1.0\n",
      "There is no health issue\n",
      "Prediction score is [+1.0000] for [Heater]\n",
      "1.0\n",
      "There is no health issue\n",
      "Prediction score is [+1.0000] for [Iron Box]\n",
      "1.0\n",
      "There is no health issue\n",
      "Prediction score is [+1.0000] for [Laptop]\n",
      "1.0\n",
      "There is no health issue\n",
      "Prediction score is [+1.0000] for [Tred Mill]\n",
      "1.0\n",
      "There is no health issue\n",
      "Prediction score is [+1.0000] for [Washing Machine]\n",
      "1.0\n",
      "There is no health issue\n",
      "['Home Theater', 'Television', 'Air Conditioner']\n"
     ]
    }
   ],
   "source": [
    "from sklearn.model_selection import train_test_split\n",
    "from sklearn.tree import DecisionTreeRegressor\n",
    "import matplotlib.pyplot as plt; plt.rcdefaults()\n",
    "import numpy as np\n",
    "import matplotlib.pyplot as plt\n",
    " \n",
    "\n",
    "pred_result=[]\n",
    "pred_applicances=[]\n",
    "feature_pred_scores = []\n",
    "for c in data.columns:\n",
    "    new_data = data.drop(c, 1)\n",
    "    #print(new_data)\n",
    "\n",
    "    X, Xv, y, yv = train_test_split(new_data, data[c], test_size=0.25, random_state=42)\n",
    "    #print(data[c])\n",
    "    regressor = DecisionTreeRegressor(random_state=42)\n",
    "    regressor.fit(X, y)\n",
    "    score = regressor.score(Xv, yv)\n",
    "    feature_pred_scores.append((score,c))\n",
    "    #print(feature_pred_scores)\n",
    "for score, c in sorted(feature_pred_scores):\n",
    "    print('Prediction score is [%+.4f] for [%s]'%(score,c))\n",
    "    print(score)\n",
    "    if score<=-0.1 or score<=0.20:\n",
    "        pred_result.append(score)\n",
    "        pred_applicances.append(c)\n",
    "        print(\"Health Issues Happened\")\n",
    "        \n",
    "    else:\n",
    "        print(\"There is no health issue\")\n",
    "\n",
    "print(pred_applicances)"
   ]
  },
  {
   "cell_type": "code",
   "execution_count": 27,
   "metadata": {
    "id": "ypchH1ShFHR0",
    "outputId": "4e29a60c-e5aa-4e3d-d5a6-b4447101c763"
   },
   "outputs": [
    {
     "data": {
      "image/png": "[encoded data removed]",
      "text/plain": [
       "<Figure size 640x480 with 1 Axes>"
      ]
     },
     "metadata": {},
     "output_type": "display_data"
    }
   ],
   "source": [
    "import matplotlib\n",
    "import matplotlib.pyplot as plt\n",
    "import numpy as np\n",
    "\n",
    "# Data for plotting\n",
    "t = pred_applicances\n",
    "s = pred_result\n",
    "\n",
    "fig, ax = plt.subplots()\n",
    "ax.plot(t, s)\n",
    "\n",
    "ax.set(xlabel='home appliances', ylabel='Predication Result',\n",
    "       title='Health Issue Performance')\n",
    "ax.grid()\n",
    "\n",
    "fig.savefig(\"test.png\")\n",
    "plt.show()"
   ]
  },
  {
   "cell_type": "code",
   "execution_count": 28,
   "metadata": {
    "id": "OpLfRFnUFHR1",
    "outputId": "4d1092d0-cfc5-408b-fc5e-d06ea3230b90"
   },
   "outputs": [
    {
     "name": "stdout",
     "output_type": "stream",
     "text": [
      "Prediction score is [-1.6102] for [Home Theater]\n",
      "-1.61019981531912\n",
      "Health Issues Happened\n",
      "Prediction score is [+0.4201] for [Television]\n",
      "0.4200844840457406\n",
      "There is no health issue\n",
      "Prediction score is [+0.5677] for [Chimney]\n",
      "0.5676800708584926\n",
      "There is no health issue\n",
      "Prediction score is [+0.5724] for [Refrigerator]\n",
      "0.5723558726016822\n",
      "There is no health issue\n",
      "Prediction score is [+0.6048] for [Hair Dryer]\n",
      "0.6047946479663607\n",
      "There is no health issue\n",
      "Prediction score is [+0.6340] for [Fan]\n",
      "0.6339756626893527\n",
      "There is no health issue\n",
      "Prediction score is [+0.7682] for [Heater]\n",
      "0.7682212379316378\n",
      "There is no health issue\n",
      "Prediction score is [+0.7834] for [Microwave]\n",
      "0.7834300285628161\n",
      "There is no health issue\n",
      "Prediction score is [+0.7968] for [Air Conditioner]\n",
      "0.7968479538991156\n",
      "There is no health issue\n",
      "Prediction score is [+0.7970] for [Washing Machine]\n",
      "0.7970314545242924\n",
      "There is no health issue\n",
      "Prediction score is [+0.8161] for [Laptop]\n",
      "0.8160861788606544\n",
      "There is no health issue\n",
      "Prediction score is [+0.8236] for [Kettle]\n",
      "0.8235870645149137\n",
      "There is no health issue\n",
      "Prediction score is [+0.8612] for [Dish Washer]\n",
      "0.8612036375131947\n",
      "There is no health issue\n",
      "Prediction score is [+1.0000] for [Iron Box]\n",
      "1.0\n",
      "There is no health issue\n",
      "Prediction score is [+1.0000] for [Tred Mill]\n",
      "1.0\n",
      "There is no health issue\n",
      "['Home Theater']\n"
     ]
    }
   ],
   "source": [
    "from sklearn.model_selection import train_test_split\n",
    "from sklearn.ensemble import RandomForestRegressor\n",
    "import matplotlib.pyplot as plt; plt.rcdefaults()\n",
    "import numpy as np\n",
    "import matplotlib.pyplot as plt\n",
    " \n",
    "\n",
    "pred_result=[]\n",
    "pred_applicances=[]\n",
    "feature_pred_scores = []\n",
    "for c in data.columns:\n",
    "    # TODO: Make a copy of the DataFrame, using the 'drop' function to drop the given feature\n",
    "    new_data = data.drop(c, 1)\n",
    "\n",
    "    # TODO: Split the data into training and testing sets using the given feature as the target\n",
    "    X, Xv, y, yv = train_test_split(new_data, data[c], test_size=0.25, random_state=42)\n",
    "\n",
    "    # TODO: Create a decision tree regressor and fit it to the training set\n",
    "    regressor = RandomForestRegressor(random_state=42)\n",
    "    regressor.fit(X, y)\n",
    "\n",
    "    # TODO: Report the score of the prediction using the testing set\n",
    "    score = regressor.score(Xv, yv)\n",
    "    feature_pred_scores.append((score,c))\n",
    "\n",
    "for score, c in sorted(feature_pred_scores):\n",
    "    print('Prediction score is [%+.4f] for [%s]'%(score,c))\n",
    "    print(score)\n",
    "    if score<=-0.1 or score<=0.20:\n",
    "        pred_result.append(score)\n",
    "        pred_applicances.append(c)\n",
    "        print(\"Health Issues Happened\")\n",
    "        \n",
    "    else:\n",
    "        print(\"There is no health issue\")\n",
    "\n",
    "print(pred_applicances)"
   ]
  },
  {
   "cell_type": "code",
   "execution_count": 29,
   "metadata": {
    "id": "NZMtt1m4FHR2",
    "outputId": "33ba103c-710d-4a42-ea0c-8fdf8d0db344"
   },
   "outputs": [
    {
     "data": {
      "image/png": "[encoded data removed]",
      "text/plain": [
       "<Figure size 640x480 with 1 Axes>"
      ]
     },
     "metadata": {},
     "output_type": "display_data"
    }
   ],
   "source": [
    "import matplotlib\n",
    "import matplotlib.pyplot as plt\n",
    "import numpy as np\n",
    "\n",
    "# Data for plotting\n",
    "t = pred_applicances\n",
    "s = pred_result\n",
    "\n",
    "fig, ax = plt.subplots()\n",
    "ax.plot(t, s)\n",
    "\n",
    "ax.set(xlabel='home appliances', ylabel='Predication Result',\n",
    "       title='Health Issue Performance')\n",
    "ax.grid()\n",
    "\n",
    "fig.savefig(\"test.png\")\n",
    "plt.show()"
   ]
  },
  {
   "cell_type": "code",
   "execution_count": 30,
   "metadata": {
    "id": "pMo_bnoyFHR3",
    "outputId": "1aff1c83-8f02-4663-a6c6-3904c409b807",
    "scrolled": true
   },
   "outputs": [
    {
     "name": "stdout",
     "output_type": "stream",
     "text": [
      "Prediction score is [-0.2860] for [Home Theater]\n",
      "-0.285980973583871\n",
      "Health Issues Happened\n",
      "Prediction score is [+0.0022] for [Kettle]\n",
      "0.0021555474680658993\n",
      "Health Issues Happened\n",
      "Prediction score is [+0.0372] for [Heater]\n",
      "0.03721303170747625\n",
      "Health Issues Happened\n",
      "Prediction score is [+0.1642] for [Chimney]\n",
      "0.16423194800206165\n",
      "Health Issues Happened\n",
      "Prediction score is [+0.1688] for [Laptop]\n",
      "0.16876598187511782\n",
      "Health Issues Happened\n",
      "Prediction score is [+0.2335] for [Hair Dryer]\n",
      "0.23350202613196047\n",
      "There is no health issue\n",
      "Prediction score is [+0.2488] for [Refrigerator]\n",
      "0.24883235776343127\n",
      "There is no health issue\n",
      "Prediction score is [+0.2881] for [Television]\n",
      "0.28811156442975283\n",
      "There is no health issue\n",
      "Prediction score is [+0.3078] for [Microwave]\n",
      "0.30777952114383\n",
      "There is no health issue\n",
      "Prediction score is [+0.4036] for [Washing Machine]\n",
      "0.40363846209335097\n",
      "There is no health issue\n",
      "Prediction score is [+0.5340] for [Air Conditioner]\n",
      "0.5340450858081794\n",
      "There is no health issue\n",
      "Prediction score is [+0.6018] for [Fan]\n",
      "0.6017578404124468\n",
      "There is no health issue\n",
      "Prediction score is [+0.6516] for [Dish Washer]\n",
      "0.651583810874535\n",
      "There is no health issue\n",
      "Prediction score is [+1.0000] for [Iron Box]\n",
      "1.0\n",
      "There is no health issue\n",
      "Prediction score is [+1.0000] for [Tred Mill]\n",
      "1.0\n",
      "There is no health issue\n",
      "['Home Theater', 'Kettle', 'Heater', 'Chimney', 'Laptop']\n"
     ]
    }
   ],
   "source": [
    "from sklearn.svm import SVR\n",
    "from sklearn.model_selection import train_test_split\n",
    "import matplotlib.pyplot as plt; plt.rcdefaults()\n",
    "import numpy as np\n",
    "import matplotlib.pyplot as plt\n",
    " \n",
    "\n",
    "pred_result=[]\n",
    "pred_applicances=[]\n",
    "feature_pred_scores = []\n",
    "for c in data.columns:\n",
    "    # TODO: Make a copy of the DataFrame, using the 'drop' function to drop the given feature\n",
    "    new_data = data.drop(c, 1)\n",
    "\n",
    "    # TODO: Split the data into training and testing sets using the given feature as the target\n",
    "    X, Xv, y, yv = train_test_split(new_data, data[c], test_size=0.25, random_state=42)\n",
    "\n",
    "    # TODO: Create a decision tree regressor and fit it to the training set\n",
    "    regressor = clf = SVR(C=1.0, epsilon=0.2)\n",
    "    regressor.fit(X, y)\n",
    "\n",
    "    # TODO: Report the score of the prediction using the testing set\n",
    "    score = regressor.score(Xv, yv)\n",
    "    feature_pred_scores.append((score,c))\n",
    "\n",
    "for score, c in sorted(feature_pred_scores):\n",
    "    print('Prediction score is [%+.4f] for [%s]'%(score,c))\n",
    "    print(score)\n",
    "    if score<=-0.1 or score<=0.20:\n",
    "        pred_result.append(score)\n",
    "        pred_applicances.append(c)\n",
    "        print(\"Health Issues Happened\")\n",
    "        \n",
    "    else:\n",
    "        print(\"There is no health issue\")\n",
    "\n",
    "print(pred_applicances)"
   ]
  },
  {
   "cell_type": "code",
   "execution_count": 31,
   "metadata": {
    "id": "Wm0XJaZSFHR6",
    "outputId": "9232ea85-26d0-4d35-c3e1-e3ad2ba77a76"
   },
   "outputs": [
    {
     "data": {
      "image/png": "[encoded data removed]",
      "text/plain": [
       "<Figure size 640x480 with 1 Axes>"
      ]
     },
     "metadata": {},
     "output_type": "display_data"
    }
   ],
   "source": [
    "import matplotlib\n",
    "import matplotlib.pyplot as plt\n",
    "import numpy as np\n",
    "\n",
    "# Data for plotting\n",
    "t = pred_applicances\n",
    "s = pred_result\n",
    "\n",
    "fig, ax = plt.subplots()\n",
    "ax.plot(t, s)\n",
    "\n",
    "ax.set(xlabel='home appliances', ylabel='Predication Result',\n",
    "       title='Health Issue Performance')\n",
    "ax.grid()\n",
    "\n",
    "fig.savefig(\"test.png\")\n",
    "plt.show()"
   ]
  },
  {
   "cell_type": "code",
   "execution_count": null,
   "metadata": {
    "id": "-bF0_J_qFHR7"
   },
   "outputs": [],
   "source": []
  }
 ],
 "metadata": {
  "colab": {
   "collapsed_sections": [],
   "name": "FPgrowth Pattern.ipynb",
   "provenance": []
  },
  "kernelspec": {
   "display_name": "Python 3",
   "language": "python",
   "name": "python3"
  },
  "language_info": {
   "codemirror_mode": {
    "name": "ipython",
    "version": 3
   },
   "file_extension": ".py",
   "mimetype": "text/x-python",
   "name": "python",
   "nbconvert_exporter": "python",
   "pygments_lexer": "ipython3",
   "version": "3.7.3"
  }
 },
 "nbformat": 4,
 "nbformat_minor": 1
}
