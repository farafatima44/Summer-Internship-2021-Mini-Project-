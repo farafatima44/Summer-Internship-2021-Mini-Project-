{
 "cells": [
  {
   "cell_type": "code",
   "execution_count": 1,
   "metadata": {},
   "outputs": [
    {
     "data": {
      "text/plain": [
       "array([[0.    , 0.    , 0.    , 0.    , 4.5623, 3.2564, 0.    , 0.    ,\n",
       "        0.    , 0.    , 0.    , 0.    , 0.    , 3.1235, 0.    ],\n",
       "       [2.3654, 0.    , 0.    , 1.2365, 3.2145, 0.    , 0.    , 0.    ,\n",
       "        0.    , 0.    , 1.2365, 0.    , 0.    , 3.2145, 0.    ],\n",
       "       [2.6548, 0.    , 0.    , 2.3654, 3.2456, 0.    , 0.    , 0.    ,\n",
       "        0.8564, 0.    , 2.3658, 0.    , 0.    , 1.2565, 0.    ],\n",
       "       [1.2356, 0.    , 0.    , 3.2145, 4.5623, 0.    , 0.    , 0.    ,\n",
       "        0.2564, 0.    , 0.    , 0.    , 0.    , 0.4568, 0.    ],\n",
       "       [1.5634, 0.    , 5.4589, 3.4568, 4.5623, 0.    , 0.    , 0.    ,\n",
       "        0.    , 0.    , 0.    , 1.2365, 3.2654, 0.    , 0.    ],\n",
       "       [4.2152, 0.    , 5.3214, 5.3254, 4.5623, 0.    , 0.    , 0.    ,\n",
       "        0.    , 0.    , 0.    , 2.1145, 2.3546, 0.    , 0.    ],\n",
       "       [4.2564, 0.    , 0.    , 4.0123, 4.2365, 0.    , 0.    , 0.    ,\n",
       "        0.    , 0.    , 0.    , 1.3256, 0.    , 0.    , 0.    ],\n",
       "       [0.    , 0.    , 0.    , 3.2564, 3.2455, 0.    , 0.    , 3.2456,\n",
       "        0.    , 1.2365, 0.    , 0.    , 0.    , 0.    , 0.    ],\n",
       "       [0.    , 4.1236, 0.    , 0.    , 2.3365, 0.    , 0.    , 0.    ,\n",
       "        0.    , 0.    , 0.    , 0.    , 0.    , 0.    , 0.    ],\n",
       "       [0.    , 2.3654, 0.    , 0.    , 0.    , 3.2145, 0.    , 0.    ,\n",
       "        0.    , 0.    , 0.    , 0.    , 0.    , 0.    , 0.    ],\n",
       "       [4.2136, 0.    , 0.    , 0.    , 0.    , 0.    , 0.    , 0.    ,\n",
       "        0.    , 0.    , 0.    , 0.    , 0.    , 0.    , 0.    ],\n",
       "       [3.2145, 0.    , 0.    , 0.    , 0.    , 0.    , 0.    , 0.    ,\n",
       "        0.    , 0.    , 0.    , 0.    , 0.    , 0.    , 0.    ],\n",
       "       [2.3654, 0.    , 0.    , 2.3654, 0.    , 2.2145, 0.    , 0.    ,\n",
       "        0.    , 0.    , 0.    , 0.    , 0.    , 2.3654, 0.    ],\n",
       "       [3.2155, 0.    , 0.    , 1.3256, 4.2114, 0.    , 0.    , 3.2145,\n",
       "        0.    , 0.    , 0.    , 0.    , 0.    , 1.2365, 0.    ],\n",
       "       [2.3245, 0.    , 0.    , 2.0147, 4.2114, 0.    , 0.    , 2.3654,\n",
       "        0.    , 2.3655, 0.    , 2.3654, 0.    , 1.2561, 0.    ],\n",
       "       [4.3256, 2.3021, 0.    , 1.2365, 4.2365, 2.3654, 0.    , 2.3654,\n",
       "        0.    , 1.2365, 2.3654, 2.3654, 0.    , 0.    , 0.    ],\n",
       "       [1.1265, 3.4562, 0.    , 0.    , 4.2114, 3.2254, 0.    , 0.    ,\n",
       "        0.    , 0.    , 0.    , 1.2546, 2.3658, 0.    , 0.    ],\n",
       "       [0.    , 0.    , 0.    , 0.    , 4.2114, 3.5621, 0.    , 0.    ,\n",
       "        0.    , 0.    , 0.    , 0.    , 0.    , 0.    , 0.    ],\n",
       "       [0.    , 0.    , 0.    , 0.    , 4.5623, 3.1145, 0.    , 0.    ,\n",
       "        0.    , 0.    , 0.    , 0.    , 0.    , 0.    , 0.    ],\n",
       "       [0.    , 0.    , 0.    , 0.    , 4.5623, 3.1145, 0.    , 0.    ,\n",
       "        0.    , 0.    , 0.    , 0.    , 0.    , 0.    , 0.    ],\n",
       "       [0.    , 0.    , 0.    , 0.    , 4.2365, 3.2254, 0.    , 0.    ,\n",
       "        0.    , 0.    , 0.    , 0.    , 0.    , 0.    , 0.    ],\n",
       "       [0.    , 0.    , 0.    , 0.    , 3.2456, 3.5698, 0.    , 0.    ,\n",
       "        0.    , 0.    , 0.    , 0.    , 0.    , 0.    , 0.    ],\n",
       "       [0.    , 0.    , 0.    , 0.    , 4.5623, 3.2254, 0.    , 0.    ,\n",
       "        0.    , 0.    , 0.    , 0.    , 0.    , 0.    , 0.    ],\n",
       "       [0.    , 0.    , 0.    , 0.    , 4.5623, 3.5698, 0.    , 0.    ,\n",
       "        0.    , 0.    , 0.    , 0.    , 0.    , 0.    , 0.    ],\n",
       "       [0.    , 0.    , 0.    , 0.    , 4.5623, 3.2564, 0.    , 0.    ,\n",
       "        0.    , 0.    , 0.    , 0.    , 0.    , 3.1235, 0.    ],\n",
       "       [2.3654, 0.    , 0.    , 1.2365, 3.2145, 0.    , 0.    , 2.1458,\n",
       "        0.    , 2.0125, 1.2365, 0.    , 0.    , 3.2145, 0.    ],\n",
       "       [2.6548, 0.    , 0.    , 2.3654, 3.2456, 0.    , 0.    , 2.3698,\n",
       "        0.8564, 2.5468, 2.3658, 0.    , 0.    , 1.2565, 0.    ],\n",
       "       [1.2356, 0.    , 0.    , 3.2145, 4.5623, 0.    , 0.    , 1.2365,\n",
       "        0.2564, 0.    , 0.    , 0.    , 0.    , 0.4568, 0.    ],\n",
       "       [1.5634, 0.    , 5.4589, 3.4568, 4.5623, 0.    , 0.    , 0.    ,\n",
       "        0.    , 0.    , 0.    , 1.2365, 3.2654, 0.    , 0.    ],\n",
       "       [4.2152, 0.    , 5.3214, 5.3254, 4.5623, 0.    , 0.    , 0.    ,\n",
       "        0.    , 0.    , 0.    , 2.1145, 2.3546, 0.    , 0.    ],\n",
       "       [4.2564, 0.    , 0.    , 4.0123, 4.2365, 0.    , 0.    , 0.    ,\n",
       "        0.    , 0.    , 0.    , 1.3256, 0.    , 0.    , 0.    ],\n",
       "       [0.    , 0.    , 0.    , 3.2564, 3.2455, 0.    , 0.    , 3.2456,\n",
       "        0.    , 1.2365, 0.    , 0.    , 0.    , 0.    , 0.    ],\n",
       "       [0.    , 4.1236, 0.    , 0.    , 2.3365, 0.    , 0.    , 0.    ,\n",
       "        0.    , 0.    , 0.    , 0.    , 0.    , 0.    , 0.    ],\n",
       "       [0.    , 2.3654, 0.    , 0.    , 0.    , 3.2145, 0.    , 0.    ,\n",
       "        0.    , 0.    , 0.    , 0.    , 0.    , 0.    , 0.    ],\n",
       "       [4.2136, 0.    , 0.    , 0.    , 0.    , 0.    , 0.    , 0.    ,\n",
       "        0.    , 0.    , 0.    , 0.    , 0.    , 0.    , 0.    ],\n",
       "       [3.2145, 0.    , 0.    , 0.    , 0.    , 0.    , 0.    , 0.    ,\n",
       "        0.    , 0.    , 0.    , 0.    , 0.    , 0.    , 0.    ],\n",
       "       [2.3654, 0.    , 0.    , 2.3654, 0.    , 2.2145, 0.    , 0.    ,\n",
       "        0.    , 0.    , 0.    , 0.    , 0.    , 2.3654, 0.    ],\n",
       "       [3.2155, 0.    , 0.    , 1.3256, 4.2114, 0.    , 0.    , 3.2145,\n",
       "        0.    , 0.    , 0.    , 0.    , 0.    , 1.2365, 0.    ],\n",
       "       [2.3245, 0.    , 0.    , 2.0147, 4.2114, 0.    , 0.    , 2.3654,\n",
       "        0.    , 2.3655, 0.    , 2.3654, 0.    , 1.2561, 0.    ],\n",
       "       [4.3256, 2.3021, 0.    , 1.2365, 4.2365, 2.3654, 0.    , 2.3654,\n",
       "        0.    , 1.2365, 2.3654, 2.3654, 0.    , 0.    , 0.    ],\n",
       "       [1.1265, 3.4562, 0.    , 0.    , 4.2114, 3.2254, 0.    , 0.    ,\n",
       "        0.    , 0.    , 0.    , 1.2546, 2.3658, 0.    , 0.    ],\n",
       "       [0.    , 0.    , 0.    , 0.    , 4.2114, 3.5621, 0.    , 0.    ,\n",
       "        0.    , 0.    , 0.    , 0.    , 0.    , 0.    , 0.    ],\n",
       "       [0.    , 0.    , 0.    , 0.    , 4.5623, 3.1145, 0.    , 0.    ,\n",
       "        0.    , 0.    , 0.    , 0.    , 0.    , 0.    , 0.    ],\n",
       "       [0.    , 0.    , 0.    , 0.    , 4.5623, 3.1145, 0.    , 0.    ,\n",
       "        0.    , 0.    , 0.    , 0.    , 0.    , 0.    , 0.    ],\n",
       "       [0.    , 0.    , 0.    , 0.    , 4.2365, 3.2254, 0.    , 0.    ,\n",
       "        0.    , 0.    , 0.    , 0.    , 0.    , 0.    , 0.    ],\n",
       "       [0.    , 0.    , 0.    , 0.    , 3.2456, 3.5698, 0.    , 0.    ,\n",
       "        0.    , 0.    , 0.    , 0.    , 0.    , 0.    , 0.    ],\n",
       "       [0.    , 0.    , 0.    , 0.    , 4.5623, 3.2254, 0.    , 0.    ,\n",
       "        0.    , 0.    , 0.    , 0.    , 0.    , 0.    , 0.    ],\n",
       "       [0.    , 0.    , 0.    , 0.    , 4.5623, 3.5698, 0.    , 0.    ,\n",
       "        0.    , 0.    , 0.    , 0.    , 0.    , 0.    , 0.    ]])"
      ]
     },
     "execution_count": 1,
     "metadata": {},
     "output_type": "execute_result"
    }
   ],
   "source": [
    "# %reset -f  #Reset the kernel\n",
    "\n",
    "#Importing the libraries\n",
    "import numpy as np\n",
    "import matplotlib.pyplot as plt\n",
    "import pandas as pd\n",
    "\n",
    "#Importing the data\n",
    "dataset=pd.read_csv('SamrtHome.csv')\n",
    "X=dataset.iloc[:, [3,4,5,6,7,8,9,10,11,12,13,14,15,16,17]].values\n",
    "\n",
    "X"
   ]
  },
  {
   "cell_type": "code",
   "execution_count": 2,
   "metadata": {},
   "outputs": [
    {
     "data": {
      "image/png": "[encoded data removed]",
      "text/plain": [
       "<Figure size 432x288 with 1 Axes>"
      ]
     },
     "metadata": {
      "needs_background": "light"
     },
     "output_type": "display_data"
    }
   ],
   "source": [
    "#Using the elbow method to find the number of clusters\n",
    "from sklearn.cluster import KMeans\n",
    "wcss=[]\n",
    "\n",
    "for i in range(1,11):\n",
    "    kmeans=KMeans(n_clusters=i , init='k-means++',max_iter=300, n_init=10, random_state=0 )\n",
    "    kmeans.fit(X)\n",
    "    wcss.append(kmeans.inertia_)\n",
    "plt.plot(range(1,11), wcss)\n",
    "plt.title('The elbow Method')\n",
    "plt.xlabel('Number of Clusters')\n",
    "plt.ylabel('wcss')\n",
    "plt.show()\n",
    "\n"
   ]
  },
  {
   "cell_type": "code",
   "execution_count": 3,
   "metadata": {},
   "outputs": [
    {
     "data": {
      "text/plain": [
       "array([0, 2, 2, 2, 1, 1, 2, 2, 0, 0, 2, 2, 2, 2, 2, 2, 0, 0, 0, 0, 0, 0,\n",
       "       0, 0, 0, 2, 2, 2, 1, 1, 2, 2, 0, 0, 2, 2, 2, 2, 2, 2, 0, 0, 0, 0,\n",
       "       0, 0, 0, 0])"
      ]
     },
     "execution_count": 3,
     "metadata": {},
     "output_type": "execute_result"
    }
   ],
   "source": [
    "#Applying kmeans to the mall data set\n",
    "\n",
    "kmeans=KMeans(n_clusters=3, init='k-means++', max_iter=300, n_init=10, random_state=0)\n",
    "y_kmeans=kmeans.fit_predict(X)\n",
    "y_kmeans"
   ]
  },
  {
   "cell_type": "code",
   "execution_count": 4,
   "metadata": {},
   "outputs": [
    {
     "data": {
      "image/png": "[encoded data removed]",
      "text/plain": [
       "<Figure size 432x288 with 1 Axes>"
      ]
     },
     "metadata": {
      "needs_background": "light"
     },
     "output_type": "display_data"
    }
   ],
   "source": [
    "#Visualizing the clusters\n",
    "\n",
    "plt.scatter(X[y_kmeans==0, 0], X[y_kmeans==0,1], s=50, c='red', label='class 1') # S is size here\n",
    "plt.scatter(X[y_kmeans==1, 0], X[y_kmeans==1,1], s=50, c='green', label='class 2')\n",
    "plt.scatter(X[y_kmeans==2, 0], X[y_kmeans==2,1], s=50, c='black', label='class 3')\n",
    "\n",
    "plt.scatter(kmeans.cluster_centers_[:,0], kmeans.cluster_centers_[:,1], s=50, c='yellow', label='centroids')\n",
    "\n",
    "plt.title('Clusters Human Activities')\n",
    "plt.xlabel('Clustered Data')\n",
    "plt.ylabel('Performance Rate')\n",
    "plt.legend()\n",
    "plt.show()"
   ]
  },
  {
   "cell_type": "code",
   "execution_count": null,
   "metadata": {},
   "outputs": [],
   "source": []
  }
 ],
 "metadata": {
  "kernelspec": {
   "display_name": "Python 3",
   "language": "python",
   "name": "python3"
  },
  "language_info": {
   "codemirror_mode": {
    "name": "ipython",
    "version": 3
   },
   "file_extension": ".py",
   "mimetype": "text/x-python",
   "name": "python",
   "nbconvert_exporter": "python",
   "pygments_lexer": "ipython3",
   "version": "3.7.3"
  }
 },
 "nbformat": 4,
 "nbformat_minor": 2
}
